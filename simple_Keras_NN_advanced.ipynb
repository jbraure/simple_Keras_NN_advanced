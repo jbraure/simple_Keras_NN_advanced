{
 "cells": [
  {
   "cell_type": "markdown",
   "metadata": {},
   "source": [
    "# Simple Deep Learning Neural Net using Keras\n",
    "The goal of this notebook is to define and train a very simple NN using Keras, make some health related prediction using a given dataset, and play a little bit with the parameters and plots. Contrary to the other repo, we'll split the dataset into train and test sets.\n",
    "* Sources : \n",
    "    * https://machinelearningmastery.com/tutorial-first-neural-network-python-keras/\n",
    "    * https://machinelearningmastery.com/display-deep-learning-model-training-history-in-keras/"
   ]
  },
  {
   "cell_type": "markdown",
   "metadata": {},
   "source": [
    "### Installing libraries"
   ]
  },
  {
   "cell_type": "code",
   "execution_count": 2,
   "metadata": {},
   "outputs": [
    {
     "name": "stdout",
     "output_type": "stream",
     "text": [
      "Requirement already satisfied: keras in /Library/Frameworks/Python.framework/Versions/3.7/lib/python3.7/site-packages (2.2.4)\n",
      "Requirement already satisfied: numpy in /Library/Frameworks/Python.framework/Versions/3.7/lib/python3.7/site-packages (1.15.2)\n",
      "Requirement already satisfied: tensorflow in /Library/Frameworks/Python.framework/Versions/3.7/lib/python3.7/site-packages (1.13.1)\n",
      "Requirement already satisfied: scipy>=0.14 in /Library/Frameworks/Python.framework/Versions/3.7/lib/python3.7/site-packages (from keras) (1.1.0)\n",
      "Requirement already satisfied: six>=1.9.0 in /Library/Frameworks/Python.framework/Versions/3.7/lib/python3.7/site-packages (from keras) (1.11.0)\n",
      "Requirement already satisfied: h5py in /Library/Frameworks/Python.framework/Versions/3.7/lib/python3.7/site-packages (from keras) (2.8.0)\n",
      "Requirement already satisfied: keras-applications>=1.0.6 in /Library/Frameworks/Python.framework/Versions/3.7/lib/python3.7/site-packages (from keras) (1.0.7)\n",
      "Requirement already satisfied: keras-preprocessing>=1.0.5 in /Library/Frameworks/Python.framework/Versions/3.7/lib/python3.7/site-packages (from keras) (1.0.9)\n",
      "Requirement already satisfied: pyyaml in /Library/Frameworks/Python.framework/Versions/3.7/lib/python3.7/site-packages (from keras) (5.1)\n",
      "Requirement already satisfied: protobuf>=3.6.1 in /Library/Frameworks/Python.framework/Versions/3.7/lib/python3.7/site-packages (from tensorflow) (3.7.1)\n",
      "Requirement already satisfied: wheel>=0.26 in /Library/Frameworks/Python.framework/Versions/3.7/lib/python3.7/site-packages (from tensorflow) (0.33.1)\n",
      "Requirement already satisfied: astor>=0.6.0 in /Library/Frameworks/Python.framework/Versions/3.7/lib/python3.7/site-packages (from tensorflow) (0.7.1)\n",
      "Requirement already satisfied: tensorflow-estimator<1.14.0rc0,>=1.13.0 in /Library/Frameworks/Python.framework/Versions/3.7/lib/python3.7/site-packages (from tensorflow) (1.13.0)\n",
      "Requirement already satisfied: tensorboard<1.14.0,>=1.13.0 in /Library/Frameworks/Python.framework/Versions/3.7/lib/python3.7/site-packages (from tensorflow) (1.13.1)\n",
      "Requirement already satisfied: absl-py>=0.1.6 in /Library/Frameworks/Python.framework/Versions/3.7/lib/python3.7/site-packages (from tensorflow) (0.7.1)\n",
      "Requirement already satisfied: termcolor>=1.1.0 in /Library/Frameworks/Python.framework/Versions/3.7/lib/python3.7/site-packages (from tensorflow) (1.1.0)\n",
      "Requirement already satisfied: grpcio>=1.8.6 in /Library/Frameworks/Python.framework/Versions/3.7/lib/python3.7/site-packages (from tensorflow) (1.19.0)\n",
      "Requirement already satisfied: gast>=0.2.0 in /Library/Frameworks/Python.framework/Versions/3.7/lib/python3.7/site-packages (from tensorflow) (0.2.2)\n",
      "Requirement already satisfied: setuptools in /Library/Frameworks/Python.framework/Versions/3.7/lib/python3.7/site-packages (from protobuf>=3.6.1->tensorflow) (39.0.1)\n",
      "Requirement already satisfied: mock>=2.0.0 in /Library/Frameworks/Python.framework/Versions/3.7/lib/python3.7/site-packages (from tensorflow-estimator<1.14.0rc0,>=1.13.0->tensorflow) (2.0.0)\n",
      "Requirement already satisfied: markdown>=2.6.8 in /Library/Frameworks/Python.framework/Versions/3.7/lib/python3.7/site-packages (from tensorboard<1.14.0,>=1.13.0->tensorflow) (3.1)\n",
      "Requirement already satisfied: werkzeug>=0.11.15 in /Library/Frameworks/Python.framework/Versions/3.7/lib/python3.7/site-packages (from tensorboard<1.14.0,>=1.13.0->tensorflow) (0.15.2)\n",
      "Requirement already satisfied: pbr>=0.11 in /Library/Frameworks/Python.framework/Versions/3.7/lib/python3.7/site-packages (from mock>=2.0.0->tensorflow-estimator<1.14.0rc0,>=1.13.0->tensorflow) (5.1.3)\n",
      "\u001b[33mYou are using pip version 18.1, however version 19.0.3 is available.\n",
      "You should consider upgrading via the 'pip install --upgrade pip' command.\u001b[0m\n"
     ]
    }
   ],
   "source": [
    "import sys\n",
    "!{sys.executable} -m pip install keras numpy tensorflow"
   ]
  },
  {
   "cell_type": "markdown",
   "metadata": {},
   "source": [
    "### Importing libraries"
   ]
  },
  {
   "cell_type": "code",
   "execution_count": 25,
   "metadata": {},
   "outputs": [],
   "source": [
    "from keras.models import Model\n",
    "from keras.layers import Dense, Input\n",
    "import numpy"
   ]
  },
  {
   "cell_type": "markdown",
   "metadata": {},
   "source": [
    "### Loading data\n",
    "This dataset has :\n",
    "* 768 rows or 'examples'\n",
    "* 9 columns"
   ]
  },
  {
   "cell_type": "code",
   "execution_count": 26,
   "metadata": {},
   "outputs": [
    {
     "name": "stdout",
     "output_type": "stream",
     "text": [
      "Rows : 768\n",
      "Columns : 9\n"
     ]
    }
   ],
   "source": [
    "# load pima indians dataset\n",
    "dataset = numpy.loadtxt(\"pima-indians-diabetes.csv\", delimiter=\",\")\n",
    "rows, columns = dataset.shape\n",
    "print('Rows :',rows)\n",
    "print('Columns :', columns)"
   ]
  },
  {
   "cell_type": "markdown",
   "metadata": {},
   "source": [
    "### Dataset columns\n",
    "We'll split it into train and test sets, with the respective proportions 90% : 10%.\n",
    "#### Input X :\n",
    "- Number of times pregnant\n",
    "- Plasma glucose concentration a 2 hours in an oral glucose tolerance test\n",
    "- Diastolic blood pressure (mm Hg)\n",
    "- Triceps skin fold thickness (mm)\n",
    "- 2-Hour serum insulin (mu U/ml)\n",
    "- Body mass index (weight in kg/(height in m)^2)\n",
    "- Diabetes pedigree function\n",
    "- Age (years)\n",
    "\n",
    "#### Output Y :\n",
    "- Class variable (0 or 1) "
   ]
  },
  {
   "cell_type": "code",
   "execution_count": 27,
   "metadata": {},
   "outputs": [],
   "source": [
    "train_set_size = int(rows*.9)\n",
    "\n",
    "# split into input (X) and output (Y) variables for train and test sets.\n",
    "# SOMETIME, TRY USING 'validation_split' IN FIT FUNCTION INSTEAD.\n",
    "X_train = dataset[:train_set_size,0:8]\n",
    "X_test = dataset[train_set_size+1:,0:8]\n",
    "Y_train = dataset[:train_set_size,8]\n",
    "Y_test = dataset[train_set_size+1:,8]"
   ]
  },
  {
   "cell_type": "markdown",
   "metadata": {},
   "source": [
    "### Creating the model\n",
    "* We have 8 inputs from X\n",
    "* 1 output in Y\n",
    "* We'll use 3 fully connected layers, the first having 12 neurons for 8 inputs, then 8 neurons, and finally 1 for the binary output prediction.\n",
    "* We'll leave the default weight initialization."
   ]
  },
  {
   "cell_type": "code",
   "execution_count": 38,
   "metadata": {},
   "outputs": [],
   "source": [
    "def MyModel(input_shape):\n",
    "    X_input = Input(input_shape)\n",
    "    X = Dense(12, activation='relu', name='Layer1')(X_input)\n",
    "    X = Dense(8, activation='relu', name='Layer2')(X)\n",
    "    X = Dense(1, activation='sigmoid', name='Layer3')(X)\n",
    "    return Model(inputs=X_input, outputs=X, name='my model')\n",
    "\n",
    "input_shape = (X_train.shape[1],)\n",
    "model = MyModel(input_shape)\n",
    "\n",
    "model.compile(loss='binary_crossentropy', optimizer='adam', metrics=['accuracy'])"
   ]
  },
  {
   "cell_type": "markdown",
   "metadata": {},
   "source": [
    "### Training the Neural Net\n",
    "* A.k.a fitting the model.\n",
    "* `epochs` is the number of times the training data is passed through the neural net. \n",
    "* `batch_size` is the number of training example let throught the net at each forward/backward propagation step. Weights are updated after each step. Convergence should be faster.\n",
    "* Verbosity is turned off."
   ]
  },
  {
   "cell_type": "code",
   "execution_count": 39,
   "metadata": {},
   "outputs": [
    {
     "name": "stdout",
     "output_type": "stream",
     "text": [
      "WARNING:tensorflow:From /Library/Frameworks/Python.framework/Versions/3.7/lib/python3.7/site-packages/tensorflow/python/ops/math_ops.py:3066: to_int32 (from tensorflow.python.ops.math_ops) is deprecated and will be removed in a future version.\n",
      "Instructions for updating:\n",
      "Use tf.cast instead.\n",
      "Epoch 1/150\n",
      "691/691 [==============================] - 1s 1ms/step - loss: 6.5773 - acc: 0.4139\n",
      "Epoch 2/150\n",
      "691/691 [==============================] - 0s 201us/step - loss: 4.0360 - acc: 0.5340\n",
      "Epoch 3/150\n",
      "691/691 [==============================] - 0s 207us/step - loss: 0.7520 - acc: 0.6512\n",
      "Epoch 4/150\n",
      "691/691 [==============================] - 0s 198us/step - loss: 0.6760 - acc: 0.6628\n",
      "Epoch 5/150\n",
      "691/691 [==============================] - 0s 196us/step - loss: 0.6486 - acc: 0.6614\n",
      "Epoch 6/150\n",
      "691/691 [==============================] - 0s 204us/step - loss: 0.6428 - acc: 0.6657\n",
      "Epoch 7/150\n",
      "691/691 [==============================] - 0s 197us/step - loss: 0.6370 - acc: 0.6787\n",
      "Epoch 8/150\n",
      "691/691 [==============================] - 0s 197us/step - loss: 0.6341 - acc: 0.6744\n",
      "Epoch 9/150\n",
      "691/691 [==============================] - 0s 222us/step - loss: 0.6317 - acc: 0.6715\n",
      "Epoch 10/150\n",
      "691/691 [==============================] - 0s 209us/step - loss: 0.6293 - acc: 0.6744\n",
      "Epoch 11/150\n",
      "691/691 [==============================] - 0s 181us/step - loss: 0.6207 - acc: 0.6715\n",
      "Epoch 12/150\n",
      "691/691 [==============================] - 0s 177us/step - loss: 0.6213 - acc: 0.6802\n",
      "Epoch 13/150\n",
      "691/691 [==============================] - 0s 173us/step - loss: 0.6145 - acc: 0.6903\n",
      "Epoch 14/150\n",
      "691/691 [==============================] - 0s 177us/step - loss: 0.6008 - acc: 0.6932\n",
      "Epoch 15/150\n",
      "691/691 [==============================] - 0s 198us/step - loss: 0.5957 - acc: 0.6975\n",
      "Epoch 16/150\n",
      "691/691 [==============================] - 0s 183us/step - loss: 0.6024 - acc: 0.6845\n",
      "Epoch 17/150\n",
      "691/691 [==============================] - 0s 203us/step - loss: 0.5895 - acc: 0.7019\n",
      "Epoch 18/150\n",
      "691/691 [==============================] - 0s 207us/step - loss: 0.5921 - acc: 0.7033\n",
      "Epoch 19/150\n",
      "691/691 [==============================] - 0s 199us/step - loss: 0.5843 - acc: 0.7019\n",
      "Epoch 20/150\n",
      "691/691 [==============================] - 0s 196us/step - loss: 0.6086 - acc: 0.6816\n",
      "Epoch 21/150\n",
      "691/691 [==============================] - 0s 196us/step - loss: 0.6021 - acc: 0.6700\n",
      "Epoch 22/150\n",
      "691/691 [==============================] - 0s 200us/step - loss: 0.5955 - acc: 0.6802\n",
      "Epoch 23/150\n",
      "691/691 [==============================] - 0s 197us/step - loss: 0.5924 - acc: 0.6816\n",
      "Epoch 24/150\n",
      "691/691 [==============================] - 0s 209us/step - loss: 0.5968 - acc: 0.6860\n",
      "Epoch 25/150\n",
      "691/691 [==============================] - 0s 201us/step - loss: 0.5942 - acc: 0.6715\n",
      "Epoch 26/150\n",
      "691/691 [==============================] - 0s 201us/step - loss: 0.5943 - acc: 0.6831\n",
      "Epoch 27/150\n",
      "691/691 [==============================] - 0s 223us/step - loss: 0.5896 - acc: 0.6816\n",
      "Epoch 28/150\n",
      "691/691 [==============================] - 0s 214us/step - loss: 0.5902 - acc: 0.6860\n",
      "Epoch 29/150\n",
      "691/691 [==============================] - 0s 202us/step - loss: 0.5848 - acc: 0.6874\n",
      "Epoch 30/150\n",
      "691/691 [==============================] - 0s 217us/step - loss: 0.5844 - acc: 0.6874\n",
      "Epoch 31/150\n",
      "691/691 [==============================] - 0s 208us/step - loss: 0.5848 - acc: 0.6874\n",
      "Epoch 32/150\n",
      "691/691 [==============================] - 0s 220us/step - loss: 0.5837 - acc: 0.6975\n",
      "Epoch 33/150\n",
      "691/691 [==============================] - 0s 267us/step - loss: 0.5901 - acc: 0.6831\n",
      "Epoch 34/150\n",
      "691/691 [==============================] - 0s 243us/step - loss: 0.5830 - acc: 0.6918\n",
      "Epoch 35/150\n",
      "691/691 [==============================] - 0s 256us/step - loss: 0.5856 - acc: 0.6903\n",
      "Epoch 36/150\n",
      "691/691 [==============================] - 0s 246us/step - loss: 0.5809 - acc: 0.6918\n",
      "Epoch 37/150\n",
      "691/691 [==============================] - 0s 244us/step - loss: 0.5812 - acc: 0.6903\n",
      "Epoch 38/150\n",
      "691/691 [==============================] - 0s 234us/step - loss: 0.5841 - acc: 0.6932\n",
      "Epoch 39/150\n",
      "691/691 [==============================] - 0s 206us/step - loss: 0.5831 - acc: 0.6845\n",
      "Epoch 40/150\n",
      "691/691 [==============================] - 0s 205us/step - loss: 0.5719 - acc: 0.7048\n",
      "Epoch 41/150\n",
      "691/691 [==============================] - 0s 206us/step - loss: 0.5768 - acc: 0.7077\n",
      "Epoch 42/150\n",
      "691/691 [==============================] - 0s 224us/step - loss: 0.5684 - acc: 0.7033\n",
      "Epoch 43/150\n",
      "691/691 [==============================] - 0s 239us/step - loss: 0.5696 - acc: 0.7106\n",
      "Epoch 44/150\n",
      "691/691 [==============================] - 0s 266us/step - loss: 0.5689 - acc: 0.7062\n",
      "Epoch 45/150\n",
      "691/691 [==============================] - 0s 249us/step - loss: 0.5600 - acc: 0.7077\n",
      "Epoch 46/150\n",
      "691/691 [==============================] - 0s 267us/step - loss: 0.5581 - acc: 0.7308\n",
      "Epoch 47/150\n",
      "691/691 [==============================] - 0s 260us/step - loss: 0.5589 - acc: 0.7192\n",
      "Epoch 48/150\n",
      "691/691 [==============================] - 0s 263us/step - loss: 0.5558 - acc: 0.7164\n",
      "Epoch 49/150\n",
      "691/691 [==============================] - 0s 215us/step - loss: 0.5543 - acc: 0.7207\n",
      "Epoch 50/150\n",
      "691/691 [==============================] - 0s 207us/step - loss: 0.5618 - acc: 0.7207\n",
      "Epoch 51/150\n",
      "691/691 [==============================] - 0s 204us/step - loss: 0.5642 - acc: 0.7178\n",
      "Epoch 52/150\n",
      "691/691 [==============================] - 0s 195us/step - loss: 0.5529 - acc: 0.7178\n",
      "Epoch 53/150\n",
      "691/691 [==============================] - 0s 194us/step - loss: 0.5579 - acc: 0.7048\n",
      "Epoch 54/150\n",
      "691/691 [==============================] - 0s 193us/step - loss: 0.5573 - acc: 0.7178\n",
      "Epoch 55/150\n",
      "691/691 [==============================] - 0s 209us/step - loss: 0.5517 - acc: 0.7352\n",
      "Epoch 56/150\n",
      "691/691 [==============================] - 0s 214us/step - loss: 0.5549 - acc: 0.7178\n",
      "Epoch 57/150\n",
      "691/691 [==============================] - 0s 199us/step - loss: 0.5549 - acc: 0.7250\n",
      "Epoch 58/150\n",
      "691/691 [==============================] - 0s 188us/step - loss: 0.5530 - acc: 0.7207\n",
      "Epoch 59/150\n",
      "691/691 [==============================] - 0s 193us/step - loss: 0.5545 - acc: 0.7077\n",
      "Epoch 60/150\n",
      "691/691 [==============================] - 0s 197us/step - loss: 0.5564 - acc: 0.7178\n",
      "Epoch 61/150\n",
      "691/691 [==============================] - 0s 195us/step - loss: 0.5508 - acc: 0.7236\n",
      "Epoch 62/150\n",
      "691/691 [==============================] - 0s 195us/step - loss: 0.5514 - acc: 0.7308\n",
      "Epoch 63/150\n",
      "691/691 [==============================] - 0s 192us/step - loss: 0.5634 - acc: 0.7178\n",
      "Epoch 64/150\n",
      "691/691 [==============================] - 0s 199us/step - loss: 0.5611 - acc: 0.6990\n",
      "Epoch 65/150\n",
      "691/691 [==============================] - 0s 200us/step - loss: 0.5569 - acc: 0.7236\n",
      "Epoch 66/150\n",
      "691/691 [==============================] - 0s 194us/step - loss: 0.5494 - acc: 0.7265\n",
      "Epoch 67/150\n",
      "691/691 [==============================] - 0s 200us/step - loss: 0.5501 - acc: 0.7207\n",
      "Epoch 68/150\n",
      "691/691 [==============================] - 0s 193us/step - loss: 0.5638 - acc: 0.7106\n",
      "Epoch 69/150\n",
      "691/691 [==============================] - 0s 197us/step - loss: 0.5583 - acc: 0.7048\n",
      "Epoch 70/150\n",
      "691/691 [==============================] - 0s 202us/step - loss: 0.5541 - acc: 0.7207\n",
      "Epoch 71/150\n",
      "691/691 [==============================] - 0s 205us/step - loss: 0.5621 - acc: 0.7077\n",
      "Epoch 72/150\n",
      "691/691 [==============================] - 0s 196us/step - loss: 0.5563 - acc: 0.7164\n",
      "Epoch 73/150\n",
      "691/691 [==============================] - 0s 193us/step - loss: 0.5479 - acc: 0.7250\n",
      "Epoch 74/150\n",
      "691/691 [==============================] - 0s 195us/step - loss: 0.5447 - acc: 0.7265\n",
      "Epoch 75/150\n",
      "691/691 [==============================] - 0s 195us/step - loss: 0.5540 - acc: 0.7192\n",
      "Epoch 76/150\n",
      "691/691 [==============================] - 0s 195us/step - loss: 0.5441 - acc: 0.7120\n",
      "Epoch 77/150\n",
      "691/691 [==============================] - 0s 193us/step - loss: 0.5476 - acc: 0.7410\n",
      "Epoch 78/150\n",
      "691/691 [==============================] - 0s 199us/step - loss: 0.5507 - acc: 0.7265\n",
      "Epoch 79/150\n",
      "691/691 [==============================] - 0s 207us/step - loss: 0.5458 - acc: 0.7308\n",
      "Epoch 80/150\n"
     ]
    },
    {
     "name": "stdout",
     "output_type": "stream",
     "text": [
      "691/691 [==============================] - 0s 199us/step - loss: 0.5458 - acc: 0.7265\n",
      "Epoch 81/150\n",
      "691/691 [==============================] - 0s 188us/step - loss: 0.5495 - acc: 0.7149\n",
      "Epoch 82/150\n",
      "691/691 [==============================] - 0s 194us/step - loss: 0.5439 - acc: 0.7265\n",
      "Epoch 83/150\n",
      "691/691 [==============================] - 0s 196us/step - loss: 0.5493 - acc: 0.7135\n",
      "Epoch 84/150\n",
      "691/691 [==============================] - 0s 190us/step - loss: 0.5456 - acc: 0.7221\n",
      "Epoch 85/150\n",
      "691/691 [==============================] - 0s 195us/step - loss: 0.5468 - acc: 0.7221\n",
      "Epoch 86/150\n",
      "691/691 [==============================] - 0s 192us/step - loss: 0.5444 - acc: 0.7250\n",
      "Epoch 87/150\n",
      "691/691 [==============================] - 0s 193us/step - loss: 0.5443 - acc: 0.7221\n",
      "Epoch 88/150\n",
      "691/691 [==============================] - 0s 192us/step - loss: 0.5457 - acc: 0.7265\n",
      "Epoch 89/150\n",
      "691/691 [==============================] - 0s 190us/step - loss: 0.5418 - acc: 0.7279\n",
      "Epoch 90/150\n",
      "691/691 [==============================] - 0s 194us/step - loss: 0.5388 - acc: 0.7135\n",
      "Epoch 91/150\n",
      "691/691 [==============================] - 0s 195us/step - loss: 0.5483 - acc: 0.7178\n",
      "Epoch 92/150\n",
      "691/691 [==============================] - 0s 190us/step - loss: 0.5615 - acc: 0.7091\n",
      "Epoch 93/150\n",
      "691/691 [==============================] - 0s 207us/step - loss: 0.5450 - acc: 0.7192\n",
      "Epoch 94/150\n",
      "691/691 [==============================] - 0s 270us/step - loss: 0.5498 - acc: 0.7135\n",
      "Epoch 95/150\n",
      "691/691 [==============================] - 0s 292us/step - loss: 0.5609 - acc: 0.7033\n",
      "Epoch 96/150\n",
      "691/691 [==============================] - 0s 279us/step - loss: 0.5407 - acc: 0.7265\n",
      "Epoch 97/150\n",
      "691/691 [==============================] - 0s 237us/step - loss: 0.5378 - acc: 0.7221\n",
      "Epoch 98/150\n",
      "691/691 [==============================] - 0s 192us/step - loss: 0.5464 - acc: 0.7366\n",
      "Epoch 99/150\n",
      "691/691 [==============================] - 0s 195us/step - loss: 0.5352 - acc: 0.7279\n",
      "Epoch 100/150\n",
      "691/691 [==============================] - 0s 188us/step - loss: 0.5365 - acc: 0.7381\n",
      "Epoch 101/150\n",
      "691/691 [==============================] - 0s 203us/step - loss: 0.5432 - acc: 0.7207\n",
      "Epoch 102/150\n",
      "691/691 [==============================] - 0s 210us/step - loss: 0.5320 - acc: 0.7279\n",
      "Epoch 103/150\n",
      "691/691 [==============================] - 0s 189us/step - loss: 0.5290 - acc: 0.7308\n",
      "Epoch 104/150\n",
      "691/691 [==============================] - 0s 193us/step - loss: 0.5311 - acc: 0.7323\n",
      "Epoch 105/150\n",
      "691/691 [==============================] - 0s 191us/step - loss: 0.5312 - acc: 0.7424\n",
      "Epoch 106/150\n",
      "691/691 [==============================] - 0s 205us/step - loss: 0.5383 - acc: 0.7207\n",
      "Epoch 107/150\n",
      "691/691 [==============================] - 0s 229us/step - loss: 0.5416 - acc: 0.7366\n",
      "Epoch 108/150\n",
      "691/691 [==============================] - 0s 217us/step - loss: 0.5359 - acc: 0.7279\n",
      "Epoch 109/150\n",
      "691/691 [==============================] - 0s 196us/step - loss: 0.5294 - acc: 0.7381\n",
      "Epoch 110/150\n",
      "691/691 [==============================] - 0s 196us/step - loss: 0.5268 - acc: 0.7467\n",
      "Epoch 111/150\n",
      "691/691 [==============================] - 0s 215us/step - loss: 0.5316 - acc: 0.7381\n",
      "Epoch 112/150\n",
      "691/691 [==============================] - 0s 203us/step - loss: 0.5262 - acc: 0.7366\n",
      "Epoch 113/150\n",
      "691/691 [==============================] - 0s 216us/step - loss: 0.5295 - acc: 0.7308\n",
      "Epoch 114/150\n",
      "691/691 [==============================] - 0s 219us/step - loss: 0.5254 - acc: 0.7424\n",
      "Epoch 115/150\n",
      "691/691 [==============================] - 0s 212us/step - loss: 0.5337 - acc: 0.7207\n",
      "Epoch 116/150\n",
      "691/691 [==============================] - 0s 215us/step - loss: 0.5308 - acc: 0.7221\n",
      "Epoch 117/150\n",
      "691/691 [==============================] - 0s 201us/step - loss: 0.5303 - acc: 0.7265\n",
      "Epoch 118/150\n",
      "691/691 [==============================] - 0s 216us/step - loss: 0.5279 - acc: 0.7366\n",
      "Epoch 119/150\n",
      "691/691 [==============================] - 0s 191us/step - loss: 0.5297 - acc: 0.7308\n",
      "Epoch 120/150\n",
      "691/691 [==============================] - 0s 188us/step - loss: 0.5239 - acc: 0.7381\n",
      "Epoch 121/150\n",
      "691/691 [==============================] - 0s 191us/step - loss: 0.5448 - acc: 0.7149\n",
      "Epoch 122/150\n",
      "691/691 [==============================] - 0s 197us/step - loss: 0.5291 - acc: 0.7337\n",
      "Epoch 123/150\n",
      "691/691 [==============================] - 0s 190us/step - loss: 0.5237 - acc: 0.7366\n",
      "Epoch 124/150\n",
      "691/691 [==============================] - 0s 190us/step - loss: 0.5310 - acc: 0.7323\n",
      "Epoch 125/150\n",
      "691/691 [==============================] - 0s 188us/step - loss: 0.5266 - acc: 0.7410\n",
      "Epoch 126/150\n",
      "691/691 [==============================] - 0s 192us/step - loss: 0.5266 - acc: 0.7352\n",
      "Epoch 127/150\n",
      "691/691 [==============================] - 0s 201us/step - loss: 0.5270 - acc: 0.7352\n",
      "Epoch 128/150\n",
      "691/691 [==============================] - 0s 203us/step - loss: 0.5274 - acc: 0.7279\n",
      "Epoch 129/150\n",
      "691/691 [==============================] - 0s 190us/step - loss: 0.5255 - acc: 0.7395\n",
      "Epoch 130/150\n",
      "691/691 [==============================] - 0s 188us/step - loss: 0.5219 - acc: 0.7410\n",
      "Epoch 131/150\n",
      "691/691 [==============================] - 0s 199us/step - loss: 0.5330 - acc: 0.7453\n",
      "Epoch 132/150\n",
      "691/691 [==============================] - 0s 190us/step - loss: 0.5247 - acc: 0.7366\n",
      "Epoch 133/150\n",
      "691/691 [==============================] - 0s 191us/step - loss: 0.5200 - acc: 0.7424\n",
      "Epoch 134/150\n",
      "691/691 [==============================] - 0s 195us/step - loss: 0.5231 - acc: 0.7265\n",
      "Epoch 135/150\n",
      "691/691 [==============================] - 0s 215us/step - loss: 0.5246 - acc: 0.7424\n",
      "Epoch 136/150\n",
      "691/691 [==============================] - 0s 210us/step - loss: 0.5175 - acc: 0.7366\n",
      "Epoch 137/150\n",
      "691/691 [==============================] - 0s 204us/step - loss: 0.5215 - acc: 0.7192\n",
      "Epoch 138/150\n",
      "691/691 [==============================] - 0s 191us/step - loss: 0.5193 - acc: 0.7294\n",
      "Epoch 139/150\n",
      "691/691 [==============================] - 0s 190us/step - loss: 0.5132 - acc: 0.7366\n",
      "Epoch 140/150\n",
      "691/691 [==============================] - 0s 193us/step - loss: 0.5167 - acc: 0.7337\n",
      "Epoch 141/150\n",
      "691/691 [==============================] - 0s 223us/step - loss: 0.5155 - acc: 0.7438\n",
      "Epoch 142/150\n",
      "691/691 [==============================] - 0s 271us/step - loss: 0.5127 - acc: 0.7453\n",
      "Epoch 143/150\n",
      "691/691 [==============================] - 0s 245us/step - loss: 0.5171 - acc: 0.7381\n",
      "Epoch 144/150\n",
      "691/691 [==============================] - 0s 208us/step - loss: 0.5155 - acc: 0.7323\n",
      "Epoch 145/150\n",
      "691/691 [==============================] - 0s 214us/step - loss: 0.5182 - acc: 0.7395\n",
      "Epoch 146/150\n",
      "691/691 [==============================] - 0s 227us/step - loss: 0.5138 - acc: 0.7366\n",
      "Epoch 147/150\n",
      "691/691 [==============================] - 0s 231us/step - loss: 0.5194 - acc: 0.7467\n",
      "Epoch 148/150\n",
      "691/691 [==============================] - 0s 253us/step - loss: 0.5155 - acc: 0.7438\n",
      "Epoch 149/150\n",
      "691/691 [==============================] - 0s 235us/step - loss: 0.5189 - acc: 0.7366\n",
      "Epoch 150/150\n",
      "691/691 [==============================] - 0s 197us/step - loss: 0.5074 - acc: 0.7381\n"
     ]
    },
    {
     "data": {
      "text/plain": [
       "<keras.callbacks.History at 0x1268afb70>"
      ]
     },
     "execution_count": 39,
     "metadata": {},
     "output_type": "execute_result"
    }
   ],
   "source": [
    "model.fit(X_train, Y_train, epochs=150, batch_size=10, verbose=1)"
   ]
  },
  {
   "cell_type": "markdown",
   "metadata": {},
   "source": [
    "### Evaluating the Neural Net\n",
    "This is performed on the test set, which wasn't used for training."
   ]
  },
  {
   "cell_type": "code",
   "execution_count": 41,
   "metadata": {},
   "outputs": [
    {
     "name": "stdout",
     "output_type": "stream",
     "text": [
      "76/76 [==============================] - 0s 86us/step\n",
      "\n",
      "acc: 65.79%\n"
     ]
    }
   ],
   "source": [
    "# evaluate the model\n",
    "scores = model.evaluate(X_test, Y_test)\n",
    "print(\"\\n%s: %.2f%%\" % (model.metrics_names[1], scores[1]*100))"
   ]
  },
  {
   "cell_type": "markdown",
   "metadata": {},
   "source": [
    "### Making predictions\n",
    "Predictions are rounded towards 0 or 1 to get a clean result, because as the output comes from the sigmoid function, it will be some value anywhere between 0 and 1."
   ]
  },
  {
   "cell_type": "code",
   "execution_count": 42,
   "metadata": {},
   "outputs": [
    {
     "name": "stdout",
     "output_type": "stream",
     "text": [
      "[0.0, 1.0, 0.0, 1.0, 0.0, 1.0, 0.0, 0.0, 0.0, 0.0, 0.0, 1.0, 0.0, 0.0, 0.0, 1.0, 1.0, 0.0, 1.0, 0.0] ...\n"
     ]
    }
   ],
   "source": [
    "# calculate predictions\n",
    "predictions = model.predict(X_test)\n",
    "# round predictions\n",
    "rounded = [round(x[0]) for x in predictions]\n",
    "# show the 20 first predictions\n",
    "print(rounded[:20], '...')"
   ]
  },
  {
   "cell_type": "code",
   "execution_count": null,
   "metadata": {},
   "outputs": [],
   "source": []
  }
 ],
 "metadata": {
  "kernelspec": {
   "display_name": "Python 3",
   "language": "python",
   "name": "python3"
  },
  "language_info": {
   "codemirror_mode": {
    "name": "ipython",
    "version": 3
   },
   "file_extension": ".py",
   "mimetype": "text/x-python",
   "name": "python",
   "nbconvert_exporter": "python",
   "pygments_lexer": "ipython3",
   "version": "3.7.0"
  }
 },
 "nbformat": 4,
 "nbformat_minor": 2
}
